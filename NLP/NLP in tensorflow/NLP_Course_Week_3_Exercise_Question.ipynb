{
  "nbformat": 4,
  "nbformat_minor": 0,
  "metadata": {
    "colab": {
      "name": "NLP Course - Week 3 Exercise Question.ipynb",
      "version": "0.3.2",
      "provenance": []
    },
    "kernelspec": {
      "name": "python3",
      "display_name": "Python 3"
    },
    "accelerator": "GPU"
  },
  "cells": [
    {
      "cell_type": "code",
      "metadata": {
        "id": "hmA6EzkQJ5jt",
        "colab_type": "code",
        "colab": {}
      },
      "source": [
        "import json\n",
        "import tensorflow as tf\n",
        "import csv\n",
        "import random\n",
        "import numpy as np\n",
        "\n",
        "from tensorflow.keras.preprocessing.text import Tokenizer\n",
        "from tensorflow.keras.preprocessing.sequence import pad_sequences\n",
        "from tensorflow.keras.utils import to_categorical\n",
        "from tensorflow.keras import regularizers\n",
        "\n",
        "\n",
        "embedding_dim = 100\n",
        "max_length = 16\n",
        "trunc_type='post'\n",
        "padding_type='post'\n",
        "oov_tok = \"<OOV>\"\n",
        "training_size=160000#Your dataset size here. Experiment using smaller values (i.e. 16000), but don't forget to train on at least 160000 to see the best effects\n",
        "test_portion=.1\n",
        "\n",
        "corpus = []\n"
      ],
      "execution_count": 0,
      "outputs": []
    },
    {
      "cell_type": "code",
      "metadata": {
        "id": "bM0l_dORKqE0",
        "colab_type": "code",
        "outputId": "2e26485a-2a27-41b4-df94-7a1d95e9f83a",
        "colab": {
          "base_uri": "https://localhost:8080/",
          "height": 215
        }
      },
      "source": [
        "\n",
        "# Note that I cleaned the Stanford dataset to remove LATIN1 encoding to make it easier for Python CSV reader\n",
        "# You can do that yourself with:\n",
        "# iconv -f LATIN1 -t UTF8 training.1600000.processed.noemoticon.csv -o training_cleaned.csv\n",
        "# I then hosted it on my site to make it easier to use in this notebook\n",
        "\n",
        "!wget --no-check-certificate \\\n",
        "    https://storage.googleapis.com/laurencemoroney-blog.appspot.com/training_cleaned.csv \\\n",
        "    -O /tmp/training_cleaned.csv\n",
        "\n",
        "num_sentences = 0\n",
        "\n",
        "with open(\"/tmp/training_cleaned.csv\") as csvfile:\n",
        "    reader = csv.reader(csvfile, delimiter=',')\n",
        "    for row in reader:\n",
        "      # Your Code here. Create list items where the first item is the text, found in row[5], and the second is the label. Note that the label is a '0' or a '4' in the text. When it's the former, make\n",
        "      # your label to be 0, otherwise 1. Keep a count of the number of sentences in num_sentences\n",
        "        list_item=[]\n",
        "        list_item.append(row[5])\n",
        "        label = row[0]\n",
        "        if label == '0':\n",
        "            list_item.append(0)\n",
        "        else:\n",
        "            list_item.append(1)\n",
        "        num_sentences = num_sentences + 1\n",
        "        corpus.append(list_item)\n",
        "\n",
        "\n"
      ],
      "execution_count": 3,
      "outputs": [
        {
          "output_type": "stream",
          "text": [
            "--2019-07-04 06:20:36--  https://storage.googleapis.com/laurencemoroney-blog.appspot.com/training_cleaned.csv\n",
            "Resolving storage.googleapis.com (storage.googleapis.com)... 64.233.189.128, 2404:6800:4008:c07::80\n",
            "Connecting to storage.googleapis.com (storage.googleapis.com)|64.233.189.128|:443... connected.\n",
            "HTTP request sent, awaiting response... 200 OK\n",
            "Length: 238942690 (228M) [application/octet-stream]\n",
            "Saving to: ‘/tmp/training_cleaned.csv’\n",
            "\n",
            "/tmp/training_clean 100%[===================>] 227.87M  56.9MB/s    in 4.0s    \n",
            "\n",
            "2019-07-04 06:20:41 (56.9 MB/s) - ‘/tmp/training_cleaned.csv’ saved [238942690/238942690]\n",
            "\n"
          ],
          "name": "stdout"
        }
      ]
    },
    {
      "cell_type": "code",
      "metadata": {
        "id": "3kxblBUjEUX-",
        "colab_type": "code",
        "outputId": "31c1a1c3-e83f-4d43-b5fc-580f6a94857f",
        "colab": {
          "base_uri": "https://localhost:8080/",
          "height": 71
        }
      },
      "source": [
        "print(num_sentences)\n",
        "print(len(corpus))\n",
        "print(corpus[1])\n",
        "\n",
        "# Expected Output:\n",
        "# 1600000\n",
        "# 1600000\n",
        "# [\"is upset that he can't update his Facebook by texting it... and might cry as a result  School today also. Blah!\", 0]"
      ],
      "execution_count": 4,
      "outputs": [
        {
          "output_type": "stream",
          "text": [
            "1600000\n",
            "1600000\n",
            "[\"is upset that he can't update his Facebook by texting it... and might cry as a result  School today also. Blah!\", 0]\n"
          ],
          "name": "stdout"
        }
      ]
    },
    {
      "cell_type": "code",
      "metadata": {
        "id": "ohOGz24lsNAD",
        "colab_type": "code",
        "colab": {}
      },
      "source": [
        "sentences=[]\n",
        "labels=[]\n",
        "random.shuffle(corpus)\n",
        "for x in range(training_size):\n",
        "    sentences.append(corpus[x][0])\n",
        "    labels.append(corpus[x][1])\n",
        "\n",
        "\n",
        "tokenizer = Tokenizer()\n",
        "tokenizer.fit_on_texts(sentences)\n",
        "\n",
        "word_index = tokenizer.word_index\n",
        "vocab_size=len(word_index)\n",
        "\n",
        "sequences = tokenizer.texts_to_sequences(sentences)\n",
        "padded = pad_sequences(sequences, maxlen=max_length, padding=padding_type, truncating=trunc_type)\n",
        "\n",
        "split = int(test_portion * training_size)\n",
        "\n",
        "test_sequences = padded[0:split]\n",
        "training_sequences = padded[split:training_size]\n",
        "test_labels = labels[0:split]\n",
        "training_labels = labels[split:training_size]"
      ],
      "execution_count": 0,
      "outputs": []
    },
    {
      "cell_type": "code",
      "metadata": {
        "id": "gIrtRem1En3N",
        "colab_type": "code",
        "outputId": "0c617bf8-ca45-4dec-bdb8-f9f2b33b8628",
        "colab": {
          "base_uri": "https://localhost:8080/",
          "height": 53
        }
      },
      "source": [
        "print(vocab_size)\n",
        "print(word_index['i'])\n",
        "# Expected Output\n",
        "# 138858\n",
        "# 1"
      ],
      "execution_count": 6,
      "outputs": [
        {
          "output_type": "stream",
          "text": [
            "138507\n",
            "1\n"
          ],
          "name": "stdout"
        }
      ]
    },
    {
      "cell_type": "code",
      "metadata": {
        "id": "C1zdgJkusRh0",
        "colab_type": "code",
        "outputId": "99e6ff09-3fb5-4c17-d6d1-9c3efe9a62ba",
        "colab": {
          "base_uri": "https://localhost:8080/",
          "height": 215
        }
      },
      "source": [
        "# Note this is the 100 dimension version of GloVe from Stanford\n",
        "# I unzipped and hosted it on my site to make this notebook easier\n",
        "!wget --no-check-certificate \\\n",
        "    https://storage.googleapis.com/laurencemoroney-blog.appspot.com/glove.6B.100d.txt \\\n",
        "    -O /tmp/glove.6B.100d.txt\n",
        "embeddings_index = {};\n",
        "with open('/tmp/glove.6B.100d.txt') as f:\n",
        "    for line in f:\n",
        "        values = line.split();\n",
        "        word = values[0];\n",
        "        coefs = np.asarray(values[1:], dtype='float32');\n",
        "        embeddings_index[word] = coefs;\n",
        "\n",
        "embeddings_matrix = np.zeros((vocab_size+1, embedding_dim));\n",
        "for word, i in word_index.items():\n",
        "    embedding_vector = embeddings_index.get(word);\n",
        "    if embedding_vector is not None:\n",
        "        embeddings_matrix[i] = embedding_vector;"
      ],
      "execution_count": 7,
      "outputs": [
        {
          "output_type": "stream",
          "text": [
            "--2019-07-04 06:21:18--  https://storage.googleapis.com/laurencemoroney-blog.appspot.com/glove.6B.100d.txt\n",
            "Resolving storage.googleapis.com (storage.googleapis.com)... 74.125.204.128, 2404:6800:4008:c07::80\n",
            "Connecting to storage.googleapis.com (storage.googleapis.com)|74.125.204.128|:443... connected.\n",
            "HTTP request sent, awaiting response... 200 OK\n",
            "Length: 347116733 (331M) [text/plain]\n",
            "Saving to: ‘/tmp/glove.6B.100d.txt’\n",
            "\n",
            "/tmp/glove.6B.100d. 100%[===================>] 331.04M  71.4MB/s    in 4.6s    \n",
            "\n",
            "2019-07-04 06:21:23 (71.4 MB/s) - ‘/tmp/glove.6B.100d.txt’ saved [347116733/347116733]\n",
            "\n"
          ],
          "name": "stdout"
        }
      ]
    },
    {
      "cell_type": "code",
      "metadata": {
        "id": "71NLk_lpFLNt",
        "colab_type": "code",
        "outputId": "85eeebf8-df4e-494a-acc9-3acb08e1ddb3",
        "colab": {
          "base_uri": "https://localhost:8080/",
          "height": 35
        }
      },
      "source": [
        "print(len(embeddings_matrix))\n",
        "# Expected Output\n",
        "# 138859"
      ],
      "execution_count": 8,
      "outputs": [
        {
          "output_type": "stream",
          "text": [
            "138508\n"
          ],
          "name": "stdout"
        }
      ]
    },
    {
      "cell_type": "code",
      "metadata": {
        "colab_type": "code",
        "id": "iKKvbuEBOGFz",
        "colab": {
          "base_uri": "https://localhost:8080/",
          "height": 1000
        },
        "outputId": "3e7f7071-0a9f-4d9a-8133-09afc250537f"
      },
      "source": [
        "model = tf.keras.Sequential([\n",
        "    tf.keras.layers.Embedding(vocab_size+1, embedding_dim, input_length=max_length, weights=[embeddings_matrix], trainable=False),\n",
        "    tf.keras.layers.Dropout(0.2),\n",
        "    tf.keras.layers.Conv1D(64, 5, activation='relu'),\n",
        "    tf.keras.layers.MaxPooling1D(pool_size=4),\n",
        "    tf.keras.layers.LSTM(64),\n",
        "    tf.keras.layers.Dense(1, activation='sigmoid')\n",
        "])\n",
        "model.compile(loss='binary_crossentropy',optimizer='adam',metrics=['accuracy'])\n",
        "model.summary()\n",
        "\n",
        "num_epochs = 50\n",
        "history = model.fit(training_sequences, training_labels, epochs=num_epochs, validation_data=(test_sequences, test_labels), verbose=2)\n",
        "\n",
        "print(\"Training Complete\")\n"
      ],
      "execution_count": 9,
      "outputs": [
        {
          "output_type": "stream",
          "text": [
            "WARNING: Logging before flag parsing goes to stderr.\n",
            "W0704 06:22:38.169639 140459145811840 deprecation.py:506] From /usr/local/lib/python3.6/dist-packages/tensorflow/python/keras/initializers.py:119: calling RandomUniform.__init__ (from tensorflow.python.ops.init_ops) with dtype is deprecated and will be removed in a future version.\n",
            "Instructions for updating:\n",
            "Call initializer instance with the dtype argument instead of passing it to the constructor\n",
            "W0704 06:22:38.177320 140459145811840 deprecation.py:506] From /usr/local/lib/python3.6/dist-packages/tensorflow/python/ops/init_ops.py:1251: calling VarianceScaling.__init__ (from tensorflow.python.ops.init_ops) with dtype is deprecated and will be removed in a future version.\n",
            "Instructions for updating:\n",
            "Call initializer instance with the dtype argument instead of passing it to the constructor\n",
            "W0704 06:22:41.628816 140459145811840 deprecation.py:323] From /usr/local/lib/python3.6/dist-packages/tensorflow/python/ops/nn_impl.py:180: add_dispatch_support.<locals>.wrapper (from tensorflow.python.ops.array_ops) is deprecated and will be removed in a future version.\n",
            "Instructions for updating:\n",
            "Use tf.where in 2.0, which has the same broadcast rule as np.where\n"
          ],
          "name": "stderr"
        },
        {
          "output_type": "stream",
          "text": [
            "Model: \"sequential\"\n",
            "_________________________________________________________________\n",
            "Layer (type)                 Output Shape              Param #   \n",
            "=================================================================\n",
            "embedding (Embedding)        (None, 16, 100)           13850800  \n",
            "_________________________________________________________________\n",
            "dropout (Dropout)            (None, 16, 100)           0         \n",
            "_________________________________________________________________\n",
            "conv1d (Conv1D)              (None, 12, 64)            32064     \n",
            "_________________________________________________________________\n",
            "max_pooling1d (MaxPooling1D) (None, 3, 64)             0         \n",
            "_________________________________________________________________\n",
            "lstm (LSTM)                  (None, 64)                33024     \n",
            "_________________________________________________________________\n",
            "dense (Dense)                (None, 1)                 65        \n",
            "=================================================================\n",
            "Total params: 13,915,953\n",
            "Trainable params: 65,153\n",
            "Non-trainable params: 13,850,800\n",
            "_________________________________________________________________\n",
            "Train on 144000 samples, validate on 16000 samples\n",
            "Epoch 1/50\n",
            "144000/144000 - 55s - loss: 0.5673 - acc: 0.6999 - val_loss: 0.5211 - val_acc: 0.7423\n",
            "Epoch 2/50\n",
            "144000/144000 - 52s - loss: 0.5280 - acc: 0.7299 - val_loss: 0.5094 - val_acc: 0.7462\n",
            "Epoch 3/50\n",
            "144000/144000 - 52s - loss: 0.5113 - acc: 0.7441 - val_loss: 0.5013 - val_acc: 0.7529\n",
            "Epoch 4/50\n",
            "144000/144000 - 52s - loss: 0.4994 - acc: 0.7519 - val_loss: 0.5024 - val_acc: 0.7513\n",
            "Epoch 5/50\n",
            "144000/144000 - 52s - loss: 0.4912 - acc: 0.7572 - val_loss: 0.5018 - val_acc: 0.7544\n",
            "Epoch 6/50\n",
            "144000/144000 - 52s - loss: 0.4843 - acc: 0.7611 - val_loss: 0.4968 - val_acc: 0.7580\n",
            "Epoch 7/50\n",
            "144000/144000 - 52s - loss: 0.4784 - acc: 0.7646 - val_loss: 0.4984 - val_acc: 0.7548\n",
            "Epoch 8/50\n",
            "144000/144000 - 52s - loss: 0.4739 - acc: 0.7682 - val_loss: 0.4988 - val_acc: 0.7587\n",
            "Epoch 9/50\n",
            "144000/144000 - 52s - loss: 0.4688 - acc: 0.7715 - val_loss: 0.4992 - val_acc: 0.7556\n",
            "Epoch 10/50\n",
            "144000/144000 - 52s - loss: 0.4642 - acc: 0.7745 - val_loss: 0.5007 - val_acc: 0.7551\n",
            "Epoch 11/50\n",
            "144000/144000 - 51s - loss: 0.4608 - acc: 0.7766 - val_loss: 0.5030 - val_acc: 0.7548\n",
            "Epoch 12/50\n",
            "144000/144000 - 51s - loss: 0.4589 - acc: 0.7775 - val_loss: 0.4988 - val_acc: 0.7596\n",
            "Epoch 13/50\n",
            "144000/144000 - 51s - loss: 0.4545 - acc: 0.7805 - val_loss: 0.5018 - val_acc: 0.7561\n",
            "Epoch 14/50\n",
            "144000/144000 - 51s - loss: 0.4539 - acc: 0.7814 - val_loss: 0.4975 - val_acc: 0.7568\n",
            "Epoch 15/50\n",
            "144000/144000 - 51s - loss: 0.4514 - acc: 0.7808 - val_loss: 0.5012 - val_acc: 0.7567\n",
            "Epoch 16/50\n",
            "144000/144000 - 51s - loss: 0.4492 - acc: 0.7830 - val_loss: 0.5066 - val_acc: 0.7559\n",
            "Epoch 17/50\n",
            "144000/144000 - 51s - loss: 0.4489 - acc: 0.7835 - val_loss: 0.5026 - val_acc: 0.7545\n",
            "Epoch 18/50\n",
            "144000/144000 - 51s - loss: 0.4473 - acc: 0.7853 - val_loss: 0.5064 - val_acc: 0.7513\n",
            "Epoch 19/50\n",
            "144000/144000 - 51s - loss: 0.4447 - acc: 0.7861 - val_loss: 0.5067 - val_acc: 0.7585\n",
            "Epoch 20/50\n",
            "144000/144000 - 51s - loss: 0.4435 - acc: 0.7865 - val_loss: 0.5037 - val_acc: 0.7517\n",
            "Epoch 21/50\n",
            "144000/144000 - 51s - loss: 0.4421 - acc: 0.7883 - val_loss: 0.5046 - val_acc: 0.7526\n",
            "Epoch 22/50\n",
            "144000/144000 - 51s - loss: 0.4403 - acc: 0.7889 - val_loss: 0.5084 - val_acc: 0.7559\n",
            "Epoch 23/50\n",
            "144000/144000 - 52s - loss: 0.4403 - acc: 0.7890 - val_loss: 0.5052 - val_acc: 0.7526\n",
            "Epoch 24/50\n",
            "144000/144000 - 53s - loss: 0.4390 - acc: 0.7897 - val_loss: 0.5098 - val_acc: 0.7531\n",
            "Epoch 25/50\n",
            "144000/144000 - 53s - loss: 0.4387 - acc: 0.7901 - val_loss: 0.5123 - val_acc: 0.7509\n",
            "Epoch 26/50\n",
            "144000/144000 - 54s - loss: 0.4376 - acc: 0.7902 - val_loss: 0.5084 - val_acc: 0.7523\n",
            "Epoch 27/50\n",
            "144000/144000 - 52s - loss: 0.4361 - acc: 0.7903 - val_loss: 0.5083 - val_acc: 0.7560\n",
            "Epoch 28/50\n",
            "144000/144000 - 52s - loss: 0.4365 - acc: 0.7914 - val_loss: 0.5076 - val_acc: 0.7525\n",
            "Epoch 29/50\n",
            "144000/144000 - 52s - loss: 0.4362 - acc: 0.7900 - val_loss: 0.5097 - val_acc: 0.7566\n",
            "Epoch 30/50\n",
            "144000/144000 - 52s - loss: 0.4350 - acc: 0.7919 - val_loss: 0.5109 - val_acc: 0.7529\n",
            "Epoch 31/50\n",
            "144000/144000 - 52s - loss: 0.4348 - acc: 0.7921 - val_loss: 0.5090 - val_acc: 0.7539\n",
            "Epoch 32/50\n",
            "144000/144000 - 52s - loss: 0.4348 - acc: 0.7926 - val_loss: 0.5095 - val_acc: 0.7558\n",
            "Epoch 33/50\n",
            "144000/144000 - 51s - loss: 0.4338 - acc: 0.7932 - val_loss: 0.5137 - val_acc: 0.7527\n",
            "Epoch 34/50\n",
            "144000/144000 - 52s - loss: 0.4320 - acc: 0.7943 - val_loss: 0.5142 - val_acc: 0.7534\n",
            "Epoch 35/50\n",
            "144000/144000 - 52s - loss: 0.4323 - acc: 0.7931 - val_loss: 0.5095 - val_acc: 0.7567\n",
            "Epoch 36/50\n",
            "144000/144000 - 52s - loss: 0.4315 - acc: 0.7942 - val_loss: 0.5113 - val_acc: 0.7504\n",
            "Epoch 37/50\n",
            "144000/144000 - 52s - loss: 0.4317 - acc: 0.7930 - val_loss: 0.5117 - val_acc: 0.7535\n",
            "Epoch 38/50\n",
            "144000/144000 - 52s - loss: 0.4315 - acc: 0.7940 - val_loss: 0.5173 - val_acc: 0.7483\n",
            "Epoch 39/50\n",
            "144000/144000 - 52s - loss: 0.4309 - acc: 0.7935 - val_loss: 0.5152 - val_acc: 0.7490\n",
            "Epoch 40/50\n",
            "144000/144000 - 52s - loss: 0.4315 - acc: 0.7940 - val_loss: 0.5105 - val_acc: 0.7506\n",
            "Epoch 41/50\n",
            "144000/144000 - 52s - loss: 0.4296 - acc: 0.7953 - val_loss: 0.5187 - val_acc: 0.7529\n",
            "Epoch 42/50\n",
            "144000/144000 - 52s - loss: 0.4306 - acc: 0.7955 - val_loss: 0.5152 - val_acc: 0.7523\n",
            "Epoch 43/50\n",
            "144000/144000 - 52s - loss: 0.4299 - acc: 0.7951 - val_loss: 0.5142 - val_acc: 0.7513\n",
            "Epoch 44/50\n",
            "144000/144000 - 52s - loss: 0.4279 - acc: 0.7966 - val_loss: 0.5219 - val_acc: 0.7481\n",
            "Epoch 45/50\n",
            "144000/144000 - 52s - loss: 0.4280 - acc: 0.7956 - val_loss: 0.5178 - val_acc: 0.7494\n",
            "Epoch 46/50\n",
            "144000/144000 - 52s - loss: 0.4289 - acc: 0.7966 - val_loss: 0.5181 - val_acc: 0.7517\n",
            "Epoch 47/50\n",
            "144000/144000 - 52s - loss: 0.4287 - acc: 0.7951 - val_loss: 0.5190 - val_acc: 0.7498\n",
            "Epoch 48/50\n",
            "144000/144000 - 52s - loss: 0.4260 - acc: 0.7976 - val_loss: 0.5211 - val_acc: 0.7534\n",
            "Epoch 49/50\n",
            "144000/144000 - 52s - loss: 0.4285 - acc: 0.7953 - val_loss: 0.5143 - val_acc: 0.7559\n",
            "Epoch 50/50\n",
            "144000/144000 - 52s - loss: 0.4270 - acc: 0.7961 - val_loss: 0.5186 - val_acc: 0.7486\n",
            "Training Complete\n"
          ],
          "name": "stdout"
        }
      ]
    },
    {
      "cell_type": "code",
      "metadata": {
        "id": "qxju4ItJKO8F",
        "colab_type": "code",
        "colab": {
          "base_uri": "https://localhost:8080/",
          "height": 609
        },
        "outputId": "97c6c037-16a1-442b-b65e-c2ec1be01a92"
      },
      "source": [
        "import matplotlib.image  as mpimg\n",
        "import matplotlib.pyplot as plt\n",
        "\n",
        "#-----------------------------------------------------------\n",
        "# Retrieve a list of list results on training and test data\n",
        "# sets for each training epoch\n",
        "#-----------------------------------------------------------\n",
        "acc=history.history['acc']\n",
        "val_acc=history.history['val_acc']\n",
        "loss=history.history['loss']\n",
        "val_loss=history.history['val_loss']\n",
        "\n",
        "epochs=range(len(acc)) # Get number of epochs\n",
        "\n",
        "#------------------------------------------------\n",
        "# Plot training and validation accuracy per epoch\n",
        "#------------------------------------------------\n",
        "plt.plot(epochs, acc, 'r')\n",
        "plt.plot(epochs, val_acc, 'b')\n",
        "plt.title('Training and validation accuracy')\n",
        "plt.xlabel(\"Epochs\")\n",
        "plt.ylabel(\"Accuracy\")\n",
        "plt.legend([\"Accuracy\", \"Validation Accuracy\"])\n",
        "\n",
        "plt.figure()\n",
        "\n",
        "#------------------------------------------------\n",
        "# Plot training and validation loss per epoch\n",
        "#------------------------------------------------\n",
        "plt.plot(epochs, loss, 'r')\n",
        "plt.plot(epochs, val_loss, 'b')\n",
        "plt.title('Training and validation loss')\n",
        "plt.xlabel(\"Epochs\")\n",
        "plt.ylabel(\"Loss\")\n",
        "plt.legend([\"Loss\", \"Validation Loss\"])\n",
        "\n",
        "plt.figure()\n",
        "\n",
        "\n",
        "# Expected Output\n",
        "# A chart where the validation loss does not increase sharply!"
      ],
      "execution_count": 10,
      "outputs": [
        {
          "output_type": "execute_result",
          "data": {
            "text/plain": [
              "<Figure size 432x288 with 0 Axes>"
            ]
          },
          "metadata": {
            "tags": []
          },
          "execution_count": 10
        },
        {
          "output_type": "display_data",
          "data": {
            "image/png": "[encoded data removed]",
            "text/plain": [
              "<Figure size 432x288 with 1 Axes>"
            ]
          },
          "metadata": {
            "tags": []
          }
        },
        {
          "output_type": "display_data",
          "data": {
            "image/png": "[encoded data removed]",
            "text/plain": [
              "<Figure size 432x288 with 1 Axes>"
            ]
          },
          "metadata": {
            "tags": []
          }
        },
        {
          "output_type": "display_data",
          "data": {
            "text/plain": [
              "<Figure size 432x288 with 0 Axes>"
            ]
          },
          "metadata": {
            "tags": []
          }
        }
      ]
    }
  ]
}
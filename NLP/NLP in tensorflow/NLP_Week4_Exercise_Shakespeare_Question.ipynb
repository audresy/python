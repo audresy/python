{
  "nbformat": 4,
  "nbformat_minor": 0,
  "metadata": {
    "colab": {
      "name": "NLP-Week4-Exercise-Shakespeare-Question.ipynb",
      "version": "0.3.2",
      "provenance": []
    },
    "kernelspec": {
      "name": "python2",
      "display_name": "Python 2"
    },
    "accelerator": "GPU"
  },
  "cells": [
    {
      "cell_type": "code",
      "metadata": {
        "id": "BOwsuGQQY9OL",
        "colab_type": "code",
        "colab": {}
      },
      "source": [
        "from tensorflow.keras.preprocessing.sequence import pad_sequences\n",
        "from tensorflow.keras.layers import Embedding, LSTM, Dense, Dropout, Bidirectional\n",
        "from tensorflow.keras.preprocessing.text import Tokenizer\n",
        "from tensorflow.keras.models import Sequential\n",
        "from tensorflow.keras.optimizers import Adam\n",
        "### YOUR CODE HERE\n",
        "# Figure out how to import regularizers\n",
        "###\n",
        "from tensorflow.keras import regularizers\n",
        "import tensorflow.keras.utils as ku \n",
        "import numpy as np "
      ],
      "execution_count": 0,
      "outputs": []
    },
    {
      "cell_type": "code",
      "metadata": {
        "colab_type": "code",
        "id": "PRnDnCW-Z7qv",
        "colab": {
          "base_uri": "https://localhost:8080/",
          "height": 215
        },
        "outputId": "88e6176f-fb04-44dd-f94a-2febc294c728"
      },
      "source": [
        "tokenizer = Tokenizer()\n",
        "!wget --no-check-certificate \\\n",
        "    https://storage.googleapis.com/laurencemoroney-blog.appspot.com/sonnets.txt \\\n",
        "    -O /tmp/sonnets.txt\n",
        "data = open('/tmp/sonnets.txt').read()\n",
        "\n",
        "corpus = data.lower().split(\"\\n\")\n",
        "\n",
        "\n",
        "tokenizer.fit_on_texts(corpus)\n",
        "total_words = len(tokenizer.word_index) + 1\n",
        "\n",
        "# create input sequences using list of tokens\n",
        "input_sequences = []\n",
        "for line in corpus:\n",
        "\ttoken_list = tokenizer.texts_to_sequences([line])[0]\n",
        "\tfor i in range(1, len(token_list)):\n",
        "\t\tn_gram_sequence = token_list[:i+1]\n",
        "\t\tinput_sequences.append(n_gram_sequence)\n",
        "\n",
        "\n",
        "# pad sequences \n",
        "max_sequence_len = max([len(x) for x in input_sequences])\n",
        "input_sequences = np.array(pad_sequences(input_sequences, maxlen=max_sequence_len, padding='pre'))\n",
        "\n",
        "# create predictors and label\n",
        "predictors, label = input_sequences[:,:-1],input_sequences[:,-1]\n",
        "\n",
        "label = ku.to_categorical(label, num_classes=total_words)"
      ],
      "execution_count": 2,
      "outputs": [
        {
          "output_type": "stream",
          "text": [
            "--2019-07-04 07:45:59--  https://storage.googleapis.com/laurencemoroney-blog.appspot.com/sonnets.txt\n",
            "Resolving storage.googleapis.com (storage.googleapis.com)... 172.217.214.128, 2607:f8b0:4001:c03::80\n",
            "Connecting to storage.googleapis.com (storage.googleapis.com)|172.217.214.128|:443... connected.\n",
            "HTTP request sent, awaiting response... 200 OK\n",
            "Length: 93578 (91K) [text/plain]\n",
            "Saving to: ‘/tmp/sonnets.txt’\n",
            "\n",
            "\r/tmp/sonnets.txt      0%[                    ]       0  --.-KB/s               \r/tmp/sonnets.txt    100%[===================>]  91.38K  --.-KB/s    in 0.001s  \n",
            "\n",
            "2019-07-04 07:45:59 (122 MB/s) - ‘/tmp/sonnets.txt’ saved [93578/93578]\n",
            "\n"
          ],
          "name": "stdout"
        }
      ]
    },
    {
      "cell_type": "code",
      "metadata": {
        "id": "w9vH8Y59ajYL",
        "colab_type": "code",
        "colab": {
          "base_uri": "https://localhost:8080/",
          "height": 703
        },
        "outputId": "3a28834e-ea46-46b5-aa8e-e8974f2d6a6d"
      },
      "source": [
        "model = Sequential()\n",
        "model.add(Embedding(total_words, 100, input_length=max_sequence_len-1))\n",
        "model.add(Bidirectional(LSTM(150, return_sequences = True)))\n",
        "model.add(Dropout(0.2))\n",
        "model.add(LSTM(100))\n",
        "model.add(Dense(total_words/2, activation='relu', kernel_regularizer=regularizers.l2(0.01)))\n",
        "model.add(Dense(total_words, activation='softmax'))\n",
        "# Pick an optimizer\n",
        "model.compile(loss='categorical_crossentropy', optimizer='adam', metrics=['accuracy'])\n",
        "print(model.summary())\n"
      ],
      "execution_count": 3,
      "outputs": [
        {
          "output_type": "stream",
          "text": [
            "WARNING: Logging before flag parsing goes to stderr.\n",
            "W0704 07:49:21.114973 140335744780160 deprecation.py:506] From /usr/local/lib/python2.7/dist-packages/tensorflow/python/keras/initializers.py:119: calling __init__ (from tensorflow.python.ops.init_ops) with dtype is deprecated and will be removed in a future version.\n",
            "Instructions for updating:\n",
            "Call initializer instance with the dtype argument instead of passing it to the constructor\n",
            "W0704 07:49:21.144047 140335744780160 deprecation.py:506] From /usr/local/lib/python2.7/dist-packages/tensorflow/python/ops/init_ops.py:1251: calling __init__ (from tensorflow.python.ops.init_ops) with dtype is deprecated and will be removed in a future version.\n",
            "Instructions for updating:\n",
            "Call initializer instance with the dtype argument instead of passing it to the constructor\n",
            "W0704 07:49:21.155308 140335744780160 deprecation.py:506] From /usr/local/lib/python2.7/dist-packages/tensorflow/python/ops/init_ops.py:97: calling __init__ (from tensorflow.python.ops.init_ops) with dtype is deprecated and will be removed in a future version.\n",
            "Instructions for updating:\n",
            "Call initializer instance with the dtype argument instead of passing it to the constructor\n",
            "W0704 07:49:21.156495 140335744780160 deprecation.py:506] From /usr/local/lib/python2.7/dist-packages/tensorflow/python/ops/init_ops.py:97: calling __init__ (from tensorflow.python.ops.init_ops) with dtype is deprecated and will be removed in a future version.\n",
            "Instructions for updating:\n",
            "Call initializer instance with the dtype argument instead of passing it to the constructor\n",
            "W0704 07:49:21.161102 140335744780160 deprecation.py:506] From /usr/local/lib/python2.7/dist-packages/tensorflow/python/ops/init_ops.py:97: calling __init__ (from tensorflow.python.ops.init_ops) with dtype is deprecated and will be removed in a future version.\n",
            "Instructions for updating:\n",
            "Call initializer instance with the dtype argument instead of passing it to the constructor\n"
          ],
          "name": "stderr"
        },
        {
          "output_type": "stream",
          "text": [
            "Model: \"sequential\"\n",
            "_________________________________________________________________\n",
            "Layer (type)                 Output Shape              Param #   \n",
            "=================================================================\n",
            "embedding (Embedding)        (None, 10, 100)           321100    \n",
            "_________________________________________________________________\n",
            "bidirectional (Bidirectional (None, 10, 300)           301200    \n",
            "_________________________________________________________________\n",
            "dropout (Dropout)            (None, 10, 300)           0         \n",
            "_________________________________________________________________\n",
            "lstm_1 (LSTM)                (None, 100)               160400    \n",
            "_________________________________________________________________\n",
            "dense (Dense)                (None, 1605)              162105    \n",
            "_________________________________________________________________\n",
            "dense_1 (Dense)              (None, 3211)              5156866   \n",
            "=================================================================\n",
            "Total params: 6,101,671\n",
            "Trainable params: 6,101,671\n",
            "Non-trainable params: 0\n",
            "_________________________________________________________________\n",
            "None\n"
          ],
          "name": "stdout"
        }
      ]
    },
    {
      "cell_type": "code",
      "metadata": {
        "id": "AIg2f1HBxqof",
        "colab_type": "code",
        "colab": {
          "base_uri": "https://localhost:8080/",
          "height": 1000
        },
        "outputId": "d1336cf2-adcb-4a31-c570-7c2b41825daf"
      },
      "source": [
        " history = model.fit(predictors, label, epochs=100, verbose=1)"
      ],
      "execution_count": 4,
      "outputs": [
        {
          "output_type": "stream",
          "text": [
            "W0704 07:49:26.989625 140335744780160 deprecation.py:323] From /usr/local/lib/python2.7/dist-packages/tensorflow/python/ops/math_grad.py:1250: where (from tensorflow.python.ops.array_ops) is deprecated and will be removed in a future version.\n",
            "Instructions for updating:\n",
            "Use tf.where in 2.0, which has the same broadcast rule as np.where\n"
          ],
          "name": "stderr"
        },
        {
          "output_type": "stream",
          "text": [
            "Epoch 1/100\n",
            "15462/15462 [==============================] - 28s 2ms/sample - loss: 6.9090 - acc: 0.0215\n",
            "Epoch 2/100\n",
            "15462/15462 [==============================] - 26s 2ms/sample - loss: 6.4989 - acc: 0.0228\n",
            "Epoch 3/100\n",
            "15462/15462 [==============================] - 26s 2ms/sample - loss: 6.3875 - acc: 0.0250\n",
            "Epoch 4/100\n",
            "15462/15462 [==============================] - 26s 2ms/sample - loss: 6.2609 - acc: 0.0302\n",
            "Epoch 5/100\n",
            "15462/15462 [==============================] - 26s 2ms/sample - loss: 6.1711 - acc: 0.0370\n",
            "Epoch 6/100\n",
            "15462/15462 [==============================] - 26s 2ms/sample - loss: 6.0892 - acc: 0.0392\n",
            "Epoch 7/100\n",
            "15462/15462 [==============================] - 25s 2ms/sample - loss: 6.0050 - acc: 0.0416\n",
            "Epoch 8/100\n",
            "15462/15462 [==============================] - 26s 2ms/sample - loss: 5.9075 - acc: 0.0452\n",
            "Epoch 9/100\n",
            "15462/15462 [==============================] - 26s 2ms/sample - loss: 5.7965 - acc: 0.0507\n",
            "Epoch 10/100\n",
            "15462/15462 [==============================] - 26s 2ms/sample - loss: 5.6850 - acc: 0.0594\n",
            "Epoch 11/100\n",
            "15462/15462 [==============================] - 26s 2ms/sample - loss: 5.5714 - acc: 0.0651\n",
            "Epoch 12/100\n",
            "15462/15462 [==============================] - 26s 2ms/sample - loss: 5.4655 - acc: 0.0754\n",
            "Epoch 13/100\n",
            "15462/15462 [==============================] - 26s 2ms/sample - loss: 5.3540 - acc: 0.0804\n",
            "Epoch 14/100\n",
            "15462/15462 [==============================] - 26s 2ms/sample - loss: 5.2511 - acc: 0.0874\n",
            "Epoch 15/100\n",
            "15462/15462 [==============================] - 26s 2ms/sample - loss: 5.1490 - acc: 0.0953\n",
            "Epoch 16/100\n",
            "15462/15462 [==============================] - 26s 2ms/sample - loss: 5.0378 - acc: 0.1003\n",
            "Epoch 17/100\n",
            "15462/15462 [==============================] - 26s 2ms/sample - loss: 4.9380 - acc: 0.1081\n",
            "Epoch 18/100\n",
            "15462/15462 [==============================] - 26s 2ms/sample - loss: 4.8422 - acc: 0.1164\n",
            "Epoch 19/100\n",
            "15462/15462 [==============================] - 26s 2ms/sample - loss: 4.7377 - acc: 0.1226\n",
            "Epoch 20/100\n",
            "15462/15462 [==============================] - 26s 2ms/sample - loss: 4.6401 - acc: 0.1323\n",
            "Epoch 21/100\n",
            "15462/15462 [==============================] - 26s 2ms/sample - loss: 4.5396 - acc: 0.1450\n",
            "Epoch 22/100\n",
            "15462/15462 [==============================] - 26s 2ms/sample - loss: 4.4444 - acc: 0.1539\n",
            "Epoch 23/100\n",
            "15462/15462 [==============================] - 26s 2ms/sample - loss: 4.3410 - acc: 0.1637\n",
            "Epoch 24/100\n",
            "15462/15462 [==============================] - 26s 2ms/sample - loss: 4.2403 - acc: 0.1813\n",
            "Epoch 25/100\n",
            "15462/15462 [==============================] - 26s 2ms/sample - loss: 4.1394 - acc: 0.1909\n",
            "Epoch 26/100\n",
            "15462/15462 [==============================] - 26s 2ms/sample - loss: 4.0482 - acc: 0.2029\n",
            "Epoch 27/100\n",
            "15462/15462 [==============================] - 26s 2ms/sample - loss: 3.9482 - acc: 0.2205\n",
            "Epoch 28/100\n",
            "15462/15462 [==============================] - 26s 2ms/sample - loss: 3.8524 - acc: 0.2319\n",
            "Epoch 29/100\n",
            "15462/15462 [==============================] - 26s 2ms/sample - loss: 3.7612 - acc: 0.2507\n",
            "Epoch 30/100\n",
            "15462/15462 [==============================] - 26s 2ms/sample - loss: 3.6709 - acc: 0.2669\n",
            "Epoch 31/100\n",
            "15462/15462 [==============================] - 26s 2ms/sample - loss: 3.5649 - acc: 0.2862\n",
            "Epoch 32/100\n",
            "15462/15462 [==============================] - 25s 2ms/sample - loss: 3.4838 - acc: 0.3041\n",
            "Epoch 33/100\n",
            "15462/15462 [==============================] - 25s 2ms/sample - loss: 3.4025 - acc: 0.3221\n",
            "Epoch 34/100\n",
            "15462/15462 [==============================] - 25s 2ms/sample - loss: 3.3115 - acc: 0.3431\n",
            "Epoch 35/100\n",
            "15462/15462 [==============================] - 25s 2ms/sample - loss: 3.2403 - acc: 0.3615\n",
            "Epoch 36/100\n",
            "15462/15462 [==============================] - 25s 2ms/sample - loss: 3.1497 - acc: 0.3801\n",
            "Epoch 37/100\n",
            "15462/15462 [==============================] - 25s 2ms/sample - loss: 3.0719 - acc: 0.3970\n",
            "Epoch 38/100\n",
            "15462/15462 [==============================] - 25s 2ms/sample - loss: 3.0055 - acc: 0.4116\n",
            "Epoch 39/100\n",
            "15462/15462 [==============================] - 25s 2ms/sample - loss: 2.9285 - acc: 0.4309\n",
            "Epoch 40/100\n",
            "15462/15462 [==============================] - 25s 2ms/sample - loss: 2.8529 - acc: 0.4470\n",
            "Epoch 41/100\n",
            "15462/15462 [==============================] - 26s 2ms/sample - loss: 2.7937 - acc: 0.4616\n",
            "Epoch 42/100\n",
            "15462/15462 [==============================] - 26s 2ms/sample - loss: 2.7269 - acc: 0.4805\n",
            "Epoch 43/100\n",
            "15462/15462 [==============================] - 26s 2ms/sample - loss: 2.6671 - acc: 0.4889\n",
            "Epoch 44/100\n",
            "15462/15462 [==============================] - 25s 2ms/sample - loss: 2.5999 - acc: 0.5054\n",
            "Epoch 45/100\n",
            "15462/15462 [==============================] - 26s 2ms/sample - loss: 2.5484 - acc: 0.5141\n",
            "Epoch 46/100\n",
            "15462/15462 [==============================] - 26s 2ms/sample - loss: 2.4947 - acc: 0.5239\n",
            "Epoch 47/100\n",
            "15462/15462 [==============================] - 25s 2ms/sample - loss: 2.4504 - acc: 0.5412\n",
            "Epoch 48/100\n",
            "15462/15462 [==============================] - 26s 2ms/sample - loss: 2.3888 - acc: 0.5551\n",
            "Epoch 49/100\n",
            "15462/15462 [==============================] - 26s 2ms/sample - loss: 2.3343 - acc: 0.5640\n",
            "Epoch 50/100\n",
            "15462/15462 [==============================] - 26s 2ms/sample - loss: 2.2805 - acc: 0.5803\n",
            "Epoch 51/100\n",
            "15462/15462 [==============================] - 26s 2ms/sample - loss: 2.2611 - acc: 0.5781\n",
            "Epoch 52/100\n",
            "15462/15462 [==============================] - 26s 2ms/sample - loss: 2.2038 - acc: 0.5900\n",
            "Epoch 53/100\n",
            "15462/15462 [==============================] - 26s 2ms/sample - loss: 2.1535 - acc: 0.6019\n",
            "Epoch 54/100\n",
            "15462/15462 [==============================] - 26s 2ms/sample - loss: 2.1105 - acc: 0.6143\n",
            "Epoch 55/100\n",
            "15462/15462 [==============================] - 26s 2ms/sample - loss: 2.0756 - acc: 0.6210\n",
            "Epoch 56/100\n",
            "15462/15462 [==============================] - 26s 2ms/sample - loss: 2.0338 - acc: 0.6301\n",
            "Epoch 57/100\n",
            "15462/15462 [==============================] - 26s 2ms/sample - loss: 1.9896 - acc: 0.6402\n",
            "Epoch 58/100\n",
            "15462/15462 [==============================] - 26s 2ms/sample - loss: 1.9635 - acc: 0.6464\n",
            "Epoch 59/100\n",
            "15462/15462 [==============================] - 26s 2ms/sample - loss: 1.9270 - acc: 0.6500\n",
            "Epoch 60/100\n",
            "15462/15462 [==============================] - 26s 2ms/sample - loss: 1.8840 - acc: 0.6620\n",
            "Epoch 61/100\n",
            "15462/15462 [==============================] - 26s 2ms/sample - loss: 1.8534 - acc: 0.6716\n",
            "Epoch 62/100\n",
            "15462/15462 [==============================] - 25s 2ms/sample - loss: 1.8295 - acc: 0.6741\n",
            "Epoch 63/100\n",
            "15462/15462 [==============================] - 26s 2ms/sample - loss: 1.7875 - acc: 0.6834\n",
            "Epoch 64/100\n",
            "15462/15462 [==============================] - 26s 2ms/sample - loss: 1.7643 - acc: 0.6876\n",
            "Epoch 65/100\n",
            "15462/15462 [==============================] - 26s 2ms/sample - loss: 1.7324 - acc: 0.6972\n",
            "Epoch 66/100\n",
            "15462/15462 [==============================] - 26s 2ms/sample - loss: 1.7061 - acc: 0.6983\n",
            "Epoch 67/100\n",
            "15462/15462 [==============================] - 26s 2ms/sample - loss: 1.6736 - acc: 0.7065\n",
            "Epoch 68/100\n",
            "15462/15462 [==============================] - 26s 2ms/sample - loss: 1.6469 - acc: 0.7116\n",
            "Epoch 69/100\n",
            "15462/15462 [==============================] - 25s 2ms/sample - loss: 1.6242 - acc: 0.7184\n",
            "Epoch 70/100\n",
            "15462/15462 [==============================] - 25s 2ms/sample - loss: 1.6107 - acc: 0.7188\n",
            "Epoch 71/100\n",
            "15462/15462 [==============================] - 25s 2ms/sample - loss: 1.5873 - acc: 0.7244\n",
            "Epoch 72/100\n",
            "15462/15462 [==============================] - 25s 2ms/sample - loss: 1.5462 - acc: 0.7333\n",
            "Epoch 73/100\n",
            "15462/15462 [==============================] - 25s 2ms/sample - loss: 1.5245 - acc: 0.7343\n",
            "Epoch 74/100\n",
            "15462/15462 [==============================] - 25s 2ms/sample - loss: 1.5126 - acc: 0.7370\n",
            "Epoch 75/100\n",
            "15462/15462 [==============================] - 25s 2ms/sample - loss: 1.5007 - acc: 0.7380\n",
            "Epoch 76/100\n",
            "15462/15462 [==============================] - 25s 2ms/sample - loss: 1.4843 - acc: 0.7419\n",
            "Epoch 77/100\n",
            "15462/15462 [==============================] - 25s 2ms/sample - loss: 1.4521 - acc: 0.7493\n",
            "Epoch 78/100\n",
            "15462/15462 [==============================] - 25s 2ms/sample - loss: 1.4343 - acc: 0.7499\n",
            "Epoch 79/100\n",
            "15462/15462 [==============================] - 25s 2ms/sample - loss: 1.4058 - acc: 0.7609\n",
            "Epoch 80/100\n",
            "15462/15462 [==============================] - 25s 2ms/sample - loss: 1.3829 - acc: 0.7641\n",
            "Epoch 81/100\n",
            "15462/15462 [==============================] - 29s 2ms/sample - loss: 1.3889 - acc: 0.7596\n",
            "Epoch 82/100\n",
            "15462/15462 [==============================] - 26s 2ms/sample - loss: 1.3753 - acc: 0.7630\n",
            "Epoch 83/100\n",
            "15462/15462 [==============================] - 26s 2ms/sample - loss: 1.3565 - acc: 0.7644\n",
            "Epoch 84/100\n",
            "15462/15462 [==============================] - 26s 2ms/sample - loss: 1.3358 - acc: 0.7703\n",
            "Epoch 85/100\n",
            "15462/15462 [==============================] - 26s 2ms/sample - loss: 1.3056 - acc: 0.7768\n",
            "Epoch 86/100\n",
            "15462/15462 [==============================] - 26s 2ms/sample - loss: 1.2940 - acc: 0.7796\n",
            "Epoch 87/100\n",
            "15462/15462 [==============================] - 26s 2ms/sample - loss: 1.2903 - acc: 0.7769\n",
            "Epoch 88/100\n",
            "15462/15462 [==============================] - 26s 2ms/sample - loss: 1.2789 - acc: 0.7778\n",
            "Epoch 89/100\n",
            "15462/15462 [==============================] - 26s 2ms/sample - loss: 1.2615 - acc: 0.7806\n",
            "Epoch 90/100\n",
            "15462/15462 [==============================] - 26s 2ms/sample - loss: 1.2539 - acc: 0.7822\n",
            "Epoch 91/100\n",
            "15462/15462 [==============================] - 26s 2ms/sample - loss: 1.2333 - acc: 0.7887\n",
            "Epoch 92/100\n",
            "15462/15462 [==============================] - 26s 2ms/sample - loss: 1.2280 - acc: 0.7885\n",
            "Epoch 93/100\n",
            "15462/15462 [==============================] - 26s 2ms/sample - loss: 1.2004 - acc: 0.7940\n",
            "Epoch 94/100\n",
            "15462/15462 [==============================] - 26s 2ms/sample - loss: 1.2026 - acc: 0.7908\n",
            "Epoch 95/100\n",
            "15462/15462 [==============================] - 26s 2ms/sample - loss: 1.1855 - acc: 0.7973\n",
            "Epoch 96/100\n",
            "15462/15462 [==============================] - 26s 2ms/sample - loss: 1.1841 - acc: 0.7929\n",
            "Epoch 97/100\n",
            "15462/15462 [==============================] - 26s 2ms/sample - loss: 1.1875 - acc: 0.7947\n",
            "Epoch 98/100\n",
            "15462/15462 [==============================] - 26s 2ms/sample - loss: 1.1634 - acc: 0.7985\n",
            "Epoch 99/100\n",
            "15462/15462 [==============================] - 26s 2ms/sample - loss: 1.1524 - acc: 0.7987\n",
            "Epoch 100/100\n",
            "15462/15462 [==============================] - 26s 2ms/sample - loss: 1.1289 - acc: 0.8059\n"
          ],
          "name": "stdout"
        }
      ]
    },
    {
      "cell_type": "code",
      "metadata": {
        "id": "1fXTEO3GJ282",
        "colab_type": "code",
        "colab": {
          "base_uri": "https://localhost:8080/",
          "height": 545
        },
        "outputId": "59ee273a-ef46-4815-bc9f-8a5258263776"
      },
      "source": [
        "import matplotlib.pyplot as plt\n",
        "acc = history.history['acc']\n",
        "loss = history.history['loss']\n",
        "\n",
        "epochs = range(len(acc))\n",
        "\n",
        "plt.plot(epochs, acc, 'b', label='Training accuracy')\n",
        "plt.title('Training accuracy')\n",
        "\n",
        "plt.figure()\n",
        "\n",
        "plt.plot(epochs, loss, 'b', label='Training Loss')\n",
        "plt.title('Training loss')\n",
        "plt.legend()\n",
        "\n",
        "plt.show()"
      ],
      "execution_count": 5,
      "outputs": [
        {
          "output_type": "display_data",
          "data": {
            "image/png": "[encoded data removed]",
            "text/plain": [
              "<Figure size 432x288 with 1 Axes>"
            ]
          },
          "metadata": {
            "tags": []
          }
        },
        {
          "output_type": "display_data",
          "data": {
            "image/png": "[encoded data removed]",
            "text/plain": [
              "<Figure size 432x288 with 1 Axes>"
            ]
          },
          "metadata": {
            "tags": []
          }
        }
      ]
    },
    {
      "cell_type": "code",
      "metadata": {
        "id": "6Vc6PHgxa6Hm",
        "colab_type": "code",
        "colab": {
          "base_uri": "https://localhost:8080/",
          "height": 55
        },
        "outputId": "05ebdf25-7f12-41ab-a20b-196bc4dfcd94"
      },
      "source": [
        "seed_text = \"Help me Obi Wan Kenobi, you're my only hope\"\n",
        "next_words = 100\n",
        "  \n",
        "for _ in range(next_words):\n",
        "\ttoken_list = tokenizer.texts_to_sequences([seed_text])[0]\n",
        "\ttoken_list = pad_sequences([token_list], maxlen=max_sequence_len-1, padding='pre')\n",
        "\tpredicted = model.predict_classes(token_list, verbose=0)\n",
        "\toutput_word = \"\"\n",
        "\tfor word, index in tokenizer.word_index.items():\n",
        "\t\tif index == predicted:\n",
        "\t\t\toutput_word = word\n",
        "\t\t\tbreak\n",
        "\tseed_text += \" \" + output_word\n",
        "print(seed_text)"
      ],
      "execution_count": 6,
      "outputs": [
        {
          "output_type": "stream",
          "text": [
            "Help me Obi Wan Kenobi, you're my only hope his air doth end decrease taken impute remain bow ' might find such best seen live dearer pride pride pride ' buried skill ' find live live that love so one bright in thee bright live told they play thee prove true crime woe lies keep so strong west still better young men lie so told he remain ' ' saith change thine eye still so fled you die old age ' did lie so better true 'no ' write me thee still bright told your 'no ' be twain live doth gone with your eyes ' must be lie\n"
          ],
          "name": "stdout"
        }
      ]
    }
  ]
}